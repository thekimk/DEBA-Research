{
 "cells": [
  {
   "cell_type": "code",
   "execution_count": 1,
   "id": "7250188c-569d-45e4-a6f3-d4b6ff2d040d",
   "metadata": {},
   "outputs": [],
   "source": [
    "import re\n",
    "import torch\n",
    "import pandas as pd\n",
    "from konlpy.tag import Okt\n",
    "from transformers import PreTrainedTokenizerFast, BartForConditionalGeneration"
   ]
  },
  {
   "cell_type": "code",
   "execution_count": 2,
   "id": "d99edd0e-8056-4c32-83fb-91e89875b73f",
   "metadata": {},
   "outputs": [],
   "source": [
    "data_path = r\"C:\\Users\\james\\J_Data_Lab\\Project-FXCast\\crawler\\data\\naver_finance_news_2020.csv\"\n",
    "df = pd.read_csv(data_path)"
   ]
  },
  {
   "cell_type": "code",
   "execution_count": 3,
   "id": "ffd8ff93-6c6d-4578-b23b-c219fb0370f2",
   "metadata": {},
   "outputs": [
    {
     "name": "stdout",
     "output_type": "stream",
     "text": [
      "1155개의 뉴스가 남았습니다.\n"
     ]
    }
   ],
   "source": [
    "# 중요 키워드 리스트 정의\n",
    "keywords = [\"원화\", \"원/달러\"]\n",
    "\n",
    "# \"달러\", \"환율\", \"외환\", \"외환시장\", \"통화\", \"금리\", \"환전\", \"외화\", \"환변동\"\n",
    "\n",
    "# 중요 단어 포함 여부 \n",
    "def contains_keyword(text):\n",
    "    if pd.isna(text): \n",
    "        return False\n",
    "    return any(keyword in text for keyword in keywords)\n",
    "\n",
    "# 필터링 적용 \n",
    "df = df[df[\"title\"].apply(contains_keyword) | df[\"content\"].apply(contains_keyword)]\n",
    "\n",
    "# 정규표현식 패턴 정의\n",
    "patterns_content = [\n",
    "    r\"\\[.*?\\]\",  # 대괄호 안의 내용 및 대괄호 자체 제거\n",
    "    r\"\\(.*?\\)\",  # 소괄호 안의 내용 및 소괄호 자체 제거\n",
    "    r\"[^ ]+@[^ ]+\\.[a-z]{2,3}\",  # 이메일 주소 제거\n",
    "    r\"▶.*?$\",  # ▶로 시작하는 광고성 문구 제거\n",
    "    r\".*?=\",  # \"=\" 이전 모든 내용 삭제 및 \"=\" 삭제\n",
    "]\n",
    "\n",
    "patterns_title = [\n",
    "    r\"\\[.*?\\]\",  # 대괄호 안의 내용 및 대괄호 자체 제거\n",
    "    r\"\\(.*?\\)\",  # 소괄호 안의 내용 및 소괄호 자체 제거\n",
    "]\n",
    "\n",
    "# 데이터 정제\n",
    "for pattern in patterns_content:\n",
    "    df[\"content\"] = df[\"content\"].apply(lambda x: re.sub(pattern, \"\", x).strip())\n",
    "\n",
    "for pattern in patterns_title:\n",
    "    df[\"title\"] = df[\"title\"].apply(lambda x: re.sub(pattern, \"\", x).strip())\n",
    "    \n",
    "# 중복제거 \n",
    "df = df.drop_duplicates(subset=[\"title\", \"content\"], keep=\"first\")\n",
    "\n",
    "# 마지막 문장을 추출하는 함수\n",
    "def remove_last_sentence_if_no_period(text):\n",
    "    if pd.isna(text):  \n",
    "        return text\n",
    "    \n",
    "    # 문장을 문장부호 기준으로 분리 (\". \", \"! \", \"? \" 사용)\n",
    "    sentences = re.split(r'(?<=[.!?])\\s+', text.strip())\n",
    "    \n",
    "    # 문장이 없는 경우 그대로 반환\n",
    "    if not sentences:\n",
    "        return text\n",
    "\n",
    "    # 마지막 문장이 \".\"으로 끝나지 않으면 삭제\n",
    "    if not sentences[-1].endswith(\".\"):\n",
    "        sentences.pop()  # 마지막 문장 제거\n",
    "\n",
    "    return \" \".join(sentences)  # 다시 문장 합치기\n",
    "\n",
    "# content에만 적용\n",
    "df[\"content\"] = df[\"content\"].apply(remove_last_sentence_if_no_period)\n",
    "\n",
    "print(f\"{len(df)}개의 뉴스가 남았습니다.\")"
   ]
  },
  {
   "cell_type": "code",
   "execution_count": 7,
   "id": "86ecbc0f-46dd-4c2e-9bee-c515bf2ea831",
   "metadata": {},
   "outputs": [
    {
     "name": "stdout",
     "output_type": "stream",
     "text": [
      "1155개의 뉴스가 남았습니다.\n"
     ]
    }
   ],
   "source": [
    "# 결측치가 있는 행 제거\n",
    "df = df.dropna(subset=['content'])\n",
    "print(f\"{len(df)}개의 뉴스가 남았습니다.\")"
   ]
  },
  {
   "cell_type": "code",
   "execution_count": 8,
   "id": "da670f84-d1d4-4e9d-8598-61c5e2f9a37d",
   "metadata": {},
   "outputs": [],
   "source": [
    "# content 결측치면 title로 대체\n",
    "df[\"content\"] = df.apply(lambda row: row[\"title\"] if pd.isna(row[\"content\"]) or row[\"content\"].strip() == \"\" else row[\"content\"], axis=1)"
   ]
  },
  {
   "cell_type": "code",
   "execution_count": 9,
   "id": "8b0192d7-5bab-43cd-ad06-42781267cf92",
   "metadata": {},
   "outputs": [
    {
     "data": {
      "text/html": [
       "<div>\n",
       "<style scoped>\n",
       "    .dataframe tbody tr th:only-of-type {\n",
       "        vertical-align: middle;\n",
       "    }\n",
       "\n",
       "    .dataframe tbody tr th {\n",
       "        vertical-align: top;\n",
       "    }\n",
       "\n",
       "    .dataframe thead th {\n",
       "        text-align: right;\n",
       "    }\n",
       "</style>\n",
       "<table border=\"1\" class=\"dataframe\">\n",
       "  <thead>\n",
       "    <tr style=\"text-align: right;\">\n",
       "      <th></th>\n",
       "      <th>date</th>\n",
       "      <th>title</th>\n",
       "      <th>url</th>\n",
       "      <th>content</th>\n",
       "    </tr>\n",
       "  </thead>\n",
       "  <tbody>\n",
       "    <tr>\n",
       "      <th>2</th>\n",
       "      <td>20200101</td>\n",
       "      <td>외환당국, 3분기 28억7천만달러 순매도…시장안정조치</td>\n",
       "      <td>https://n.news.naver.com/mnews/article/001/001...</td>\n",
       "      <td>외환당국이 지난 3분기 시장안정을 위해 외환시장에서 28억7천만달러를 순매도했다고 ...</td>\n",
       "    </tr>\n",
       "    <tr>\n",
       "      <th>6</th>\n",
       "      <td>20200101</td>\n",
       "      <td>올해 원/달러 환율 롤러코스터…연중 변동폭 110원 달해</td>\n",
       "      <td>https://n.news.naver.com/mnews/article/001/001...</td>\n",
       "      <td>올해 원/달러 환율은 롤러코스터를 타는 듯했다. 연중 고점과 저점 차이가 110원 ...</td>\n",
       "    </tr>\n",
       "    <tr>\n",
       "      <th>7</th>\n",
       "      <td>20200101</td>\n",
       "      <td>외환시장 올해 마지막 거래일…원/달러 환율 1,156원에 마감</td>\n",
       "      <td>https://n.news.naver.com/mnews/article/001/001...</td>\n",
       "      <td>외환시장 올해 마지막 거래일…원/달러 환율 1,156원에 마감</td>\n",
       "    </tr>\n",
       "    <tr>\n",
       "      <th>8</th>\n",
       "      <td>20200101</td>\n",
       "      <td>위험선호 분위기 속 원/달러 환율 1,150원대로 하락 출발</td>\n",
       "      <td>https://n.news.naver.com/mnews/article/001/001...</td>\n",
       "      <td>30일 오전 원/달러 환율이 하락한 채로 출발했다.이날 서울 외환시장에서 원/달러 ...</td>\n",
       "    </tr>\n",
       "    <tr>\n",
       "      <th>11</th>\n",
       "      <td>20200101</td>\n",
       "      <td>美中무역분쟁·브렉시트 여전히 대외리스크…美대선도 관건</td>\n",
       "      <td>https://n.news.naver.com/mnews/article/001/001...</td>\n",
       "      <td>연합뉴스 내년 경제전망 설문에 참여한 경제기관장들. 왼쪽부터 최정표 한국개발연구원 ...</td>\n",
       "    </tr>\n",
       "    <tr>\n",
       "      <th>...</th>\n",
       "      <td>...</td>\n",
       "      <td>...</td>\n",
       "      <td>...</td>\n",
       "      <td>...</td>\n",
       "    </tr>\n",
       "    <tr>\n",
       "      <th>7116</th>\n",
       "      <td>20201229</td>\n",
       "      <td>원/달러 환율 4.6원 내린 1,092.1원</td>\n",
       "      <td>https://n.news.naver.com/mnews/article/001/001...</td>\n",
       "      <td>원/달러 환율 4.6원 내린 1,092.1원</td>\n",
       "    </tr>\n",
       "    <tr>\n",
       "      <th>7117</th>\n",
       "      <td>20201229</td>\n",
       "      <td>\"북한 당국, 국내 시장서 외화 사용 금지\"&lt;아사히&gt;</td>\n",
       "      <td>https://n.news.naver.com/mnews/article/001/001...</td>\n",
       "      <td>북한 당국이 최근 국내 시장에서 외화 사용을 금지하기 시작했다고 아사히신문이 한국 ...</td>\n",
       "    </tr>\n",
       "    <tr>\n",
       "      <th>7119</th>\n",
       "      <td>20201229</td>\n",
       "      <td>원/달러 환율 0.8원 오른 1,097.5원</td>\n",
       "      <td>https://n.news.naver.com/mnews/article/001/001...</td>\n",
       "      <td>원/달러 환율 0.8원 오른 1,097.5원</td>\n",
       "    </tr>\n",
       "    <tr>\n",
       "      <th>7136</th>\n",
       "      <td>20201230</td>\n",
       "      <td>원/달러 환율 5.8원 내린 1,086.3원</td>\n",
       "      <td>https://n.news.naver.com/mnews/article/001/001...</td>\n",
       "      <td>원/달러 환율 5.8원 내린 1,086.3원</td>\n",
       "    </tr>\n",
       "    <tr>\n",
       "      <th>7140</th>\n",
       "      <td>20201230</td>\n",
       "      <td>원/달러 환율 0.4원 내린 1,091.7원</td>\n",
       "      <td>https://n.news.naver.com/mnews/article/001/001...</td>\n",
       "      <td>원/달러 환율 0.4원 내린 1,091.7원</td>\n",
       "    </tr>\n",
       "  </tbody>\n",
       "</table>\n",
       "<p>1155 rows × 4 columns</p>\n",
       "</div>"
      ],
      "text/plain": [
       "          date                               title  \\\n",
       "2     20200101       외환당국, 3분기 28억7천만달러 순매도…시장안정조치   \n",
       "6     20200101     올해 원/달러 환율 롤러코스터…연중 변동폭 110원 달해   \n",
       "7     20200101  외환시장 올해 마지막 거래일…원/달러 환율 1,156원에 마감   \n",
       "8     20200101   위험선호 분위기 속 원/달러 환율 1,150원대로 하락 출발   \n",
       "11    20200101       美中무역분쟁·브렉시트 여전히 대외리스크…美대선도 관건   \n",
       "...        ...                                 ...   \n",
       "7116  20201229            원/달러 환율 4.6원 내린 1,092.1원   \n",
       "7117  20201229       \"북한 당국, 국내 시장서 외화 사용 금지\"<아사히>   \n",
       "7119  20201229            원/달러 환율 0.8원 오른 1,097.5원   \n",
       "7136  20201230            원/달러 환율 5.8원 내린 1,086.3원   \n",
       "7140  20201230            원/달러 환율 0.4원 내린 1,091.7원   \n",
       "\n",
       "                                                    url  \\\n",
       "2     https://n.news.naver.com/mnews/article/001/001...   \n",
       "6     https://n.news.naver.com/mnews/article/001/001...   \n",
       "7     https://n.news.naver.com/mnews/article/001/001...   \n",
       "8     https://n.news.naver.com/mnews/article/001/001...   \n",
       "11    https://n.news.naver.com/mnews/article/001/001...   \n",
       "...                                                 ...   \n",
       "7116  https://n.news.naver.com/mnews/article/001/001...   \n",
       "7117  https://n.news.naver.com/mnews/article/001/001...   \n",
       "7119  https://n.news.naver.com/mnews/article/001/001...   \n",
       "7136  https://n.news.naver.com/mnews/article/001/001...   \n",
       "7140  https://n.news.naver.com/mnews/article/001/001...   \n",
       "\n",
       "                                                content  \n",
       "2     외환당국이 지난 3분기 시장안정을 위해 외환시장에서 28억7천만달러를 순매도했다고 ...  \n",
       "6     올해 원/달러 환율은 롤러코스터를 타는 듯했다. 연중 고점과 저점 차이가 110원 ...  \n",
       "7                    외환시장 올해 마지막 거래일…원/달러 환율 1,156원에 마감  \n",
       "8     30일 오전 원/달러 환율이 하락한 채로 출발했다.이날 서울 외환시장에서 원/달러 ...  \n",
       "11    연합뉴스 내년 경제전망 설문에 참여한 경제기관장들. 왼쪽부터 최정표 한국개발연구원 ...  \n",
       "...                                                 ...  \n",
       "7116                           원/달러 환율 4.6원 내린 1,092.1원  \n",
       "7117  북한 당국이 최근 국내 시장에서 외화 사용을 금지하기 시작했다고 아사히신문이 한국 ...  \n",
       "7119                           원/달러 환율 0.8원 오른 1,097.5원  \n",
       "7136                           원/달러 환율 5.8원 내린 1,086.3원  \n",
       "7140                           원/달러 환율 0.4원 내린 1,091.7원  \n",
       "\n",
       "[1155 rows x 4 columns]"
      ]
     },
     "execution_count": 9,
     "metadata": {},
     "output_type": "execute_result"
    }
   ],
   "source": [
    "df"
   ]
  },
  {
   "cell_type": "code",
   "execution_count": 10,
   "id": "a2228aa7-62a0-4624-b9da-7859aa7ba7b5",
   "metadata": {},
   "outputs": [],
   "source": [
    "save_path = r\"C:\\Users\\james\\J_Data_Lab\\Project-FXCast\\crawler\\data\\naver_finance_news_2020_prep_3.csv\"\n",
    "df.to_csv(save_path, index=False, encoding=\"utf-8-sig\")"
   ]
  },
  {
   "cell_type": "code",
   "execution_count": null,
   "id": "2ac6712f-88b7-409f-9aa0-6f0fe60f785c",
   "metadata": {},
   "outputs": [],
   "source": [
    "# KoBart 요약 -> 이상하게 나옴;;"
   ]
  },
  {
   "cell_type": "code",
   "execution_count": 5,
   "id": "cefc4393-08d9-42aa-a0d6-e9a18656a5a4",
   "metadata": {},
   "outputs": [
    {
     "name": "stderr",
     "output_type": "stream",
     "text": [
      "You passed along `num_labels=3` with an incompatible id to label map: {'0': 'NEGATIVE', '1': 'POSITIVE'}. The number of labels wil be overwritten to 2.\n",
      "You passed along `num_labels=3` with an incompatible id to label map: {'0': 'NEGATIVE', '1': 'POSITIVE'}. The number of labels wil be overwritten to 2.\n"
     ]
    },
    {
     "data": {
      "text/plain": [
       "0                                                     \n",
       "1    가가 등했다.다.국내 성장세가 낮아진 가운데 미·중 무역분쟁, 일본 수출규제, 홍콩...\n",
       "2    n n 높 n n n 많이 n nn n n 등 n n랑 n n들 n n 순 n n ...\n",
       "Name: summarize_content, dtype: object"
      ]
     },
     "execution_count": 5,
     "metadata": {},
     "output_type": "execute_result"
    }
   ],
   "source": [
    "# KoBART 모델 (SKT의 KoBART GitHub: https://github.com/SKT-AI/KoBART)\n",
    "model_name = \"gogamza/kobart-base-v2\"\n",
    "tokenizer = PreTrainedTokenizerFast.from_pretrained(model_name)\n",
    "model = BartForConditionalGeneration.from_pretrained(model_name)\n",
    "\n",
    "# GPU 사용 \n",
    "device = torch.device(\"cuda\" if torch.cuda.is_available() else \"cpu\")\n",
    "model.to(device)\n",
    "\n",
    "# 요약 함수 정의\n",
    "def kobart_summarize(text, max_input_length=1024, max_target_length=128):\n",
    "\n",
    "    # 인코딩\n",
    "    inputs = tokenizer.encode_plus(\n",
    "        text,\n",
    "        return_tensors=\"pt\",\n",
    "        truncation=True,\n",
    "        max_length=max_input_length,\n",
    "        add_special_tokens=True\n",
    "    )\n",
    "    \n",
    "    # GPU로 옮기기 \n",
    "    input_ids = inputs[\"input_ids\"].to(device)\n",
    "    attention_mask = inputs[\"attention_mask\"].to(device)\n",
    "\n",
    "    # 문장 생성 \n",
    "    summary_ids = model.generate(\n",
    "        input_ids=input_ids,\n",
    "        attention_mask=attention_mask,\n",
    "        num_beams=4,          # 빔 서치 개수\n",
    "        max_length=max_target_length,\n",
    "        early_stopping=True,\n",
    "        no_repeat_ngram_size=3  # 반복 방지\n",
    "    )\n",
    "\n",
    "    # 토크나이저로 디코딩\n",
    "    summarized_text = tokenizer.decode(summary_ids[0], skip_special_tokens=True)\n",
    "    return summarized_text.strip()\n",
    "\n",
    "# CSV 파일 불러오기\n",
    "data_path = r\"C:\\Users\\james\\J_Data_Lab\\Project-FXCast\\crawler\\data\\naver_finance_news_2020_prep_1.csv\"\n",
    "df = pd.read_csv(data_path)\n",
    "\n",
    "# summarize_content 생성\n",
    "df[\"summarize_content\"] = df[\"content\"].apply(lambda x: kobart_summarize(str(x)))\n",
    "\n",
    "# 결과 확인\n",
    "df[\"summarize_content\"].head(3)"
   ]
  },
  {
   "cell_type": "code",
   "execution_count": 6,
   "id": "e733c1ed-91d5-4aa1-971b-589e3340e279",
   "metadata": {},
   "outputs": [],
   "source": [
    "save_path = r\"C:\\Users\\james\\J_Data_Lab\\Project-FXCast\\crawler\\data\\naver_finance_news_2020_prep_2.csv\"\n",
    "df.to_csv(save_path, index=False, encoding=\"utf-8-sig\")"
   ]
  },
  {
   "cell_type": "code",
   "execution_count": null,
   "id": "b530187c-f247-4ae6-abff-9718699be7da",
   "metadata": {},
   "outputs": [],
   "source": []
  }
 ],
 "metadata": {
  "kernelspec": {
   "display_name": "Python (my_new_env)",
   "language": "python",
   "name": "my_new_env"
  },
  "language_info": {
   "codemirror_mode": {
    "name": "ipython",
    "version": 3
   },
   "file_extension": ".py",
   "mimetype": "text/x-python",
   "name": "python",
   "nbconvert_exporter": "python",
   "pygments_lexer": "ipython3",
   "version": "3.9.20"
  }
 },
 "nbformat": 4,
 "nbformat_minor": 5
}
