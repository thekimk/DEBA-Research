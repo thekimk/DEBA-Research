{
 "cells": [
  {
   "cell_type": "code",
   "execution_count": null,
   "id": "2d2ff190-ba73-4513-9faf-2943ce3490fb",
   "metadata": {},
   "outputs": [],
   "source": [
    "# https://huggingface.co/snunlp/KR-FinBert-SC\n"
   ]
  },
  {
   "cell_type": "code",
   "execution_count": 1,
   "id": "9a7fc4af-faa5-465d-836b-50db2093e4c5",
   "metadata": {},
   "outputs": [
    {
     "name": "stdout",
     "output_type": "stream",
     "text": [
      "WARNING:tensorflow:From C:\\Users\\james\\anaconda3\\envs\\my_new_env\\lib\\site-packages\\tf_keras\\src\\losses.py:2976: The name tf.losses.sparse_softmax_cross_entropy is deprecated. Please use tf.compat.v1.losses.sparse_softmax_cross_entropy instead.\n",
      "\n"
     ]
    },
    {
     "name": "stderr",
     "output_type": "stream",
     "text": [
      "Device set to use cuda:0\n"
     ]
    }
   ],
   "source": [
    "from transformers import pipeline, AutoTokenizer, AutoModelForSequenceClassification\n",
    "\n",
    "# 모델 로드 \n",
    "pipe = pipeline(\"text-classification\", model=\"snunlp/KR-FinBert-SC\")\n",
    "#tokenizer = AutoTokenizer.from_pretrained(\"snunlp/KR-FinBert-SC\")\n",
    "#model = AutoModelForSequenceClassification.from_pretrained(\"snunlp/KR-FinBert-SC\")"
   ]
  },
  {
   "cell_type": "code",
   "execution_count": 2,
   "id": "9cf46fef-0016-4254-9b1d-8e8d2f61e5e6",
   "metadata": {},
   "outputs": [
    {
     "name": "stdout",
     "output_type": "stream",
     "text": [
      "Prediction result: [{'label': 'neutral', 'score': 0.9916825294494629}]\n"
     ]
    }
   ],
   "source": [
    "test_text2 = \"\"\"크리스마스 연휴를 앞두고 원·달러 환율이 하락 마감했다.24일 서울외환시장에서 원·달러 환율은 전날보다 4.9원 하락한 1103.0원에 거래를 마쳤다. \n",
    "                지난 17일 이후 5거래일 만에 하락했다.달러는 신종 코로나바이러스 감염증 변종 바이러스 소식에 강세 흐름을 보였지만,\n",
    "                이날 미국 정부의 추가 부양책 통과 기대가 확대되면서 약세로 전환했다.\n",
    "                중국 위안화 환율이 하락 흐름을 보인 것도 원·달러 환율을 끌어내린 원인이다\"\"\"\n",
    "\n",
    "# 감정 예측 \n",
    "result = pipe(test_text2)\n",
    "print(\"Prediction result:\", result)"
   ]
  },
  {
   "cell_type": "code",
   "execution_count": 3,
   "id": "bd40663e-86f5-4d6a-a714-5ca6d7c4ad3b",
   "metadata": {},
   "outputs": [
    {
     "name": "stdout",
     "output_type": "stream",
     "text": [
      "Prediction result: [{'label': 'neutral', 'score': 0.729336142539978}]\n"
     ]
    }
   ],
   "source": [
    "test_text3 = \"\"\"원·달러 환율이 가파르게 하락하고 있다.4일 오전 9시10분 현재 서울외환시장에서 원·달러 환율은 전날보다 4.3원 내린 1092.7원에 거래되고 있다. \n",
    "                이는 2018년 6월14일 장중 기록한 1084.0원 이후 약 2년 6개월 만에 최저 수준이다.\n",
    "                그간 원·달러 환율이 가파르게 하락한 것은 달러 약세와 위안화 강세의 영향 때문이다. \n",
    "                또 11월 국내 수출 호조 반도체 업황에 대한 긍정적 시각 등도 원화 가치를 강세로 이끌었다.전승지 삼성선물 연구원은 \n",
    "                \"\"대내외적으로 원·달러 환율에 우호적인 환경이 조성되고 있다\"\"며\n",
    "                \"\"다만 지난 9월부터 쉼없이 이어진 하락세에 속도 부담이 많은 상황\"\"이라고 했다\"\"\"\n",
    "\n",
    "# 감정 예측 \n",
    "result = pipe(test_text3)\n",
    "print(\"Prediction result:\", result)"
   ]
  },
  {
   "cell_type": "code",
   "execution_count": 4,
   "id": "0383d947-ee71-4ea1-928e-56ffa71e315b",
   "metadata": {},
   "outputs": [
    {
     "name": "stdout",
     "output_type": "stream",
     "text": [
      "Prediction result: [{'label': 'neutral', 'score': 0.6941725611686707}]\n"
     ]
    }
   ],
   "source": [
    "# 테스트 문장\n",
    "test_text4 = \"\"\"원·달러 환율이 가파르게 하락하고 있다.\"\"\"\n",
    "\n",
    "# 감정 예측 \n",
    "result = pipe(test_text4)\n",
    "print(\"Prediction result:\", result)"
   ]
  },
  {
   "cell_type": "code",
   "execution_count": null,
   "id": "c6ea2126-afa9-49ff-b39a-a3576138acee",
   "metadata": {},
   "outputs": [],
   "source": [
    "# https://huggingface.co/ProsusAI/finbert?text=The+won-dollar+exchange+rate+is+falling+steeply.&library=transformers"
   ]
  },
  {
   "cell_type": "code",
   "execution_count": 7,
   "id": "2129367a-8f88-4204-b739-15a8e063182a",
   "metadata": {},
   "outputs": [
    {
     "data": {
      "application/vnd.jupyter.widget-view+json": {
       "model_id": "48e996e8c9d44abaa9007be2c081552b",
       "version_major": 2,
       "version_minor": 0
      },
      "text/plain": [
       "config.json:   0%|          | 0.00/758 [00:00<?, ?B/s]"
      ]
     },
     "metadata": {},
     "output_type": "display_data"
    },
    {
     "data": {
      "application/vnd.jupyter.widget-view+json": {
       "model_id": "15549dd93a8b43ecb2f4b848f14b9f99",
       "version_major": 2,
       "version_minor": 0
      },
      "text/plain": [
       "pytorch_model.bin:   0%|          | 0.00/438M [00:00<?, ?B/s]"
      ]
     },
     "metadata": {},
     "output_type": "display_data"
    },
    {
     "data": {
      "application/vnd.jupyter.widget-view+json": {
       "model_id": "9cf4e913c7444cd7aedc04cc5c2f85af",
       "version_major": 2,
       "version_minor": 0
      },
      "text/plain": [
       "tokenizer_config.json:   0%|          | 0.00/252 [00:00<?, ?B/s]"
      ]
     },
     "metadata": {},
     "output_type": "display_data"
    },
    {
     "data": {
      "application/vnd.jupyter.widget-view+json": {
       "model_id": "a18a931a65c845f7a9acb47ce2f44bb6",
       "version_major": 2,
       "version_minor": 0
      },
      "text/plain": [
       "vocab.txt:   0%|          | 0.00/232k [00:00<?, ?B/s]"
      ]
     },
     "metadata": {},
     "output_type": "display_data"
    },
    {
     "data": {
      "application/vnd.jupyter.widget-view+json": {
       "model_id": "f5cfdce012484ad9917d6c7a065a1dcf",
       "version_major": 2,
       "version_minor": 0
      },
      "text/plain": [
       "special_tokens_map.json:   0%|          | 0.00/112 [00:00<?, ?B/s]"
      ]
     },
     "metadata": {},
     "output_type": "display_data"
    },
    {
     "name": "stderr",
     "output_type": "stream",
     "text": [
      "Device set to use cuda:0\n"
     ]
    }
   ],
   "source": [
    "# finbert\n",
    "from transformers import pipeline\n",
    "\n",
    "pipe = pipeline(\"text-classification\", model=\"ProsusAI/finbert\")"
   ]
  },
  {
   "cell_type": "code",
   "execution_count": 8,
   "id": "9d7f743a-375e-401b-8e12-07161627aed1",
   "metadata": {},
   "outputs": [
    {
     "name": "stdout",
     "output_type": "stream",
     "text": [
      "Prediction result: [{'label': 'negative', 'score': 0.9683383703231812}]\n"
     ]
    }
   ],
   "source": [
    "test_text5 = \"\"\"The won-dollar exchange rate is falling steeply\"\"\"\n",
    "\n",
    "# 감정 예측 \n",
    "result = pipe(test_text5)\n",
    "print(\"Prediction result:\", result)"
   ]
  },
  {
   "cell_type": "code",
   "execution_count": 9,
   "id": "d0770d01-77b0-409b-991a-2d6c951957ca",
   "metadata": {},
   "outputs": [
    {
     "name": "stdout",
     "output_type": "stream",
     "text": [
      "Prediction result: [{'label': 'negative', 'score': 0.9726071357727051}]\n"
     ]
    }
   ],
   "source": [
    "test_text6 = \"\"\"The won-dollar exchange rate closed lower ahead of the Christmas holiday. On the 24th, the won-dollar exchange rate in the Seoul foreign exchange market closed at 1,103.0 won, down 4.9 won from the previous day.\n",
    "It has fallen for the first time in five trading days since the 17th. The dollar has been bullish on news of the novel coronavirus strain,\n",
    "On this day, it turned weak as expectations of the U.S. government's passage of additional stimulus measures expanded.\n",
    "China's yuan exchange rate has also been on the decline, causing the won-dollar exchange rate to fall\"\"\"\n",
    "\n",
    "# 감정 예측 \n",
    "result = pipe(test_text6)\n",
    "print(\"Prediction result:\", result)"
   ]
  },
  {
   "cell_type": "code",
   "execution_count": 11,
   "id": "505a3d08-7202-416d-a03d-05a6cba5c834",
   "metadata": {},
   "outputs": [
    {
     "name": "stdout",
     "output_type": "stream",
     "text": [
      "Prediction result: [{'label': 'negative', 'score': 0.9649982452392578}]\n"
     ]
    }
   ],
   "source": [
    "test_text6 = \"\"\"The won-dollar exchange rate is falling steeply. As of 9:10 a.m. on the 4th, the won-dollar exchange rate was trading at 1092.7 won on the Seoul foreign exchange market, down 4.3 won from the previous day.\n",
    "This is the lowest level in about two and a half years since the 1,084.0 won recorded during the day on June 14, 2018.\n",
    "The steep fall in the won-dollar exchange rate so far is due to the weak dollar and the strong yuan.\n",
    "Also, positive views on the semiconductor industry, which is strong in November, led the won's value to strengthen. Jeon Seung-ji, a researcher at Samsung Futures, said\n",
    "\"A favorable environment is being created for the won-dollar exchange rate both internally and externally,\" he said\n",
    "\"However, there is a lot of speed burden due to the continuous decline since September.\"\"\"\n",
    "\n",
    "# 감정 예측 \n",
    "result = pipe(test_text6)\n",
    "print(\"Prediction result:\", result)"
   ]
  },
  {
   "cell_type": "code",
   "execution_count": 15,
   "id": "8dc39282-fbce-4528-9831-5e5600c83d56",
   "metadata": {},
   "outputs": [
    {
     "name": "stdout",
     "output_type": "stream",
     "text": [
      "Prediction result: [{'label': 'positive', 'score': 0.9484393000602722}]\n"
     ]
    }
   ],
   "source": [
    "test_text7 = \"\"\"The won/dollar exchange rate rose slightly. \n",
    "In the Seoul foreign exchange market, the won/dollar exchange rate rose 2.3 won to close at 1,112.7 won per dollar. \n",
    "\"\"\"\n",
    "result = pipe(test_text7)\n",
    "print(\"Prediction result:\", result)"
   ]
  },
  {
   "cell_type": "code",
   "execution_count": null,
   "id": "b339d130-eaee-4c55-b302-2aa373657206",
   "metadata": {},
   "outputs": [],
   "source": []
  }
 ],
 "metadata": {
  "kernelspec": {
   "display_name": "Python (my_new_env)",
   "language": "python",
   "name": "my_new_env"
  },
  "language_info": {
   "codemirror_mode": {
    "name": "ipython",
    "version": 3
   },
   "file_extension": ".py",
   "mimetype": "text/x-python",
   "name": "python",
   "nbconvert_exporter": "python",
   "pygments_lexer": "ipython3",
   "version": "3.9.20"
  }
 },
 "nbformat": 4,
 "nbformat_minor": 5
}
